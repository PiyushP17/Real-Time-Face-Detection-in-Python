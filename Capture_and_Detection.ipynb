import numpy
import cv2

def liveCapture()->'Captured Photo':
    '''This is a funtion that will return a real time photo
    captured from your laptops web cam 
    made by Nishchay Sharma
    '''

    
    #Capturing from the 0th web camera
    camera = cv2.VideoCapture(0)

    #rec will get True or False and so the captured will store the frame.
    rec, captured = camera.read()
    
    
    #writing image to local path
    cv2.imwrite("photo.jpg",captured)

    
    #releasing the camera
    camera.release()

    #Destroy the window created previously
    cv2.destroyAllWindows()

def detectFaceEye()->bool:
    '''
    This is a funtion that will check for eyes and face in
    a captured photo and will True if a photo is found else
    it will return False
    made by Piyush Pant
    '''

    #Getting path for the cascader files

    #Reference for face cascade
    face_cascade = cv2.CascadeClassifier('Cascaders\\haarcascade_frontalface_default.xml')

    #Reference for eye cascade
    eye_cascade = cv2.CascadeClassifier('Cascaders\\haarcascade_eye.xml')
    
    #Reference for smile cascade
    smile_cascade = cv2.CascadeClassifier('Cascaders\\haarcascade_smile.xml')
    
    #Capture the live photo
    liveCapture()
    #Reading the photo
    image=cv2.imread('photo.jpg')

    #gray is the reference for the photo in gray scale format
    #taking gray because it is easiler and colored photo is not required 
    gray=cv2.cvtColor(image, cv2.COLOR_BGR2GRAY,0)

    #Scale factor=1.5 and 
    faces=face_cascade.detectMultiScale(gray, 1.3, 5)

    flag=False
    
    #Detect cordinated of face
    for (fx,fy,fw,fh) in faces:
        
        #If any value found then flag=True
        flag=True
        
        #Creating a rectangle around the face
        cv2.rectangle(image,(fx,fy),(fx+fw,fy+fh),(255,0,0),2)
        roi_gray = gray[fy:fy+fh, fx:fx+fw]
        roi_color = image[fy:fy+fh, fx:fx+fw]
        eyes = eye_cascade.detectMultiScale(roi_gray)
        
        #Detect eye
        for (ex,ey,ew,eh) in eyes:

            #Creating rectangles around eyes
            cv2.rectangle(roi_color,(ex,ey),(ex+ew,ey+eh),(0,255,0),2)
        
        smiles = smile_cascade.detectMultiScale(roi_gray,
            scaleFactor= 1.7,
            mn=22,   #minimum neighbours
            ms=(25, 25),   #minimum size
            flags=cv2.CASCADE_SCALE_IMAGE)
            
        for(sx,sy,sw,sh) in smiles:
            cv2.rectangle(roi_color, (sx, sy), (sx+sw, sy+sh), (0, 0, 255), 1)
    '''In case you want to view the image output then remove the below comment'''
    #cv2.imshow('img',image)
    cv2.waitKey(0)
    cv2.destroyAllWindows()
    return flag
detectFaceEye()
